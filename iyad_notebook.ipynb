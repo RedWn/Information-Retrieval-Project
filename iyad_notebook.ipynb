{
 "cells": [
  {
   "cell_type": "markdown",
   "id": "bab08d86",
   "metadata": {},
   "source": [
    "## Download Packages"
   ]
  },
  {
   "cell_type": "code",
   "execution_count": null,
   "id": "118854ac",
   "metadata": {},
   "outputs": [],
   "source": [
    "# !python -m spacy download en_core_web_sm\n",
    "# %pip install country_converter\n",
    "\n",
    "# %pip install bert-extractive-summarizer\n",
    "# %pip install \"torch-2.2.2+cu121-cp311-cp311-win_amd64.whl\"\n",
    "\n",
    "# %pip install transformers\n",
    "# !pip install torch==2.2.2\n",
    "# %pip install spacy\n",
    "# %pip install gensim\n",
    "# %pip install roman\n",
    "# %pip install re\n",
    "# %pip install tqdm\n",
    "# %pip install geocoder\n",
    "# %pip install -U sentence-transformers\n",
    "# %pip install streamlit\n",
    "# %pip install wordcloud\n",
    "# %pip install textblob\n"
   ]
  },
  {
   "cell_type": "code",
   "execution_count": null,
   "id": "bae355d8",
   "metadata": {},
   "outputs": [],
   "source": [
    "from textblob import TextBlob\n",
    "\n",
    "word = \"I aam cooll\"  # Incorrect spelling\n",
    "print(\"Original text:\", word)\n",
    "corrected_word = TextBlob(word).correct()\n",
    "print(\"Corrected text:\", corrected_word)"
   ]
  },
  {
   "cell_type": "markdown",
   "id": "07ab75af",
   "metadata": {},
   "source": [
    "# Import Libraries"
   ]
  },
  {
   "cell_type": "code",
   "execution_count": null,
   "id": "fc4c3dfb",
   "metadata": {},
   "outputs": [],
   "source": [
    "from python import FileManager\n",
    "from python import WordCleaner\n",
    "from python import Matcher\n",
    "from python import Evaluater\n",
    "from python import FileManager\n",
    "from sklearn.feature_extraction.text import TfidfVectorizer\n",
    "from nltk.tokenize import word_tokenize\n",
    "import numpy as np\n",
    "import torch\n",
    "from tqdm import tqdm\n",
    "from multiprocessing import Pool\n",
    "from gensim.models import Word2Vec\n",
    "\n",
    "%load_ext autoreload\n",
    "%autoreload 2"
   ]
  },
  {
   "cell_type": "markdown",
   "id": "f86b2947",
   "metadata": {},
   "source": [
    "# Dataset Manipulation "
   ]
  },
  {
   "cell_type": "markdown",
   "id": "069c2740",
   "metadata": {},
   "source": [
    "## Load Files"
   ]
  },
  {
   "cell_type": "code",
   "execution_count": null,
   "id": "91d69ec5",
   "metadata": {},
   "outputs": [],
   "source": [
    "vectorizer = TfidfVectorizer()\n",
    "dataset = FileManager.csv_to_dict(\"wikir/RRM2RL.csv\", delimiter=\",\", skip_headers=True)\n",
    "datasets = [dataset]\n",
    "dataset_keys = list(datasets[-1].keys())"
   ]
  },
  {
   "cell_type": "markdown",
   "id": "ae375500",
   "metadata": {},
   "source": [
    "## Remove stop words"
   ]
  },
  {
   "cell_type": "code",
   "execution_count": null,
   "id": "65723f2b",
   "metadata": {},
   "outputs": [],
   "source": [
    "dataset = datasets[-1]\n",
    "filtered_dataset = {}\n",
    "for key in tqdm(dataset):\n",
    "    filtered_dataset[key] = WordCleaner.remove_stop_words(dataset[key], \"spacy\")\n",
    "datasets.append(filtered_dataset)"
   ]
  },
  {
   "cell_type": "markdown",
   "id": "8c7120a1",
   "metadata": {},
   "source": [
    "## Remove single letters"
   ]
  },
  {
   "cell_type": "code",
   "execution_count": null,
   "id": "b3d1cb7f",
   "metadata": {},
   "outputs": [],
   "source": [
    "dataset = datasets[-1]\n",
    "no_singles_dataset = {}\n",
    "for key in tqdm(dataset):\n",
    "    no_singles_dataset[key] = WordCleaner.remove_single_letters(dataset[key])\n",
    "datasets.append(no_singles_dataset)"
   ]
  },
  {
   "cell_type": "markdown",
   "id": "d9e12a0b",
   "metadata": {},
   "source": [
    "## Process capital punctuation"
   ]
  },
  {
   "cell_type": "code",
   "execution_count": null,
   "id": "a7aa0b0a",
   "metadata": {},
   "outputs": [],
   "source": [
    "dataset = datasets[-1]\n",
    "processed_dataset = {}\n",
    "for key in tqdm(dataset):\n",
    "    processed_dataset[key] = WordCleaner.process_capital_punctuation(dataset[key])\n",
    "datasets.append(processed_dataset)"
   ]
  },
  {
   "cell_type": "markdown",
   "id": "6621f9e3",
   "metadata": {},
   "source": [
    "## Stem"
   ]
  },
  {
   "cell_type": "code",
   "execution_count": null,
   "id": "4377f840",
   "metadata": {},
   "outputs": [],
   "source": [
    "dataset = datasets[-1]\n",
    "stemmed_dataset = {}\n",
    "for row in tqdm(dataset):\n",
    "    stemmed_dataset[row] = WordCleaner.stem(dataset[row], \"Snowball\")\n",
    "datasets.append(stemmed_dataset)"
   ]
  },
  {
   "cell_type": "markdown",
   "id": "8bd7a58d",
   "metadata": {},
   "source": [
    "## Lemmatize"
   ]
  },
  {
   "cell_type": "code",
   "execution_count": null,
   "id": "43fe0f11",
   "metadata": {},
   "outputs": [],
   "source": [
    "dataset = datasets[-1]\n",
    "lemmad_dataset = {}\n",
    "for row in tqdm(dataset):\n",
    "    lemmad_dataset[row] = WordCleaner.lemmatize(dataset[row])\n",
    "datasets.append(lemmad_dataset)"
   ]
  },
  {
   "cell_type": "markdown",
   "id": "c9c0bcf1",
   "metadata": {},
   "source": [
    "## Synonym Map"
   ]
  },
  {
   "cell_type": "code",
   "execution_count": null,
   "id": "7af5cf99",
   "metadata": {},
   "outputs": [],
   "source": [
    "from multiprocessing import Pool\n",
    "\n",
    "dataset = datasets[-1]\n",
    "mapped = {}\n",
    "# Create a pool of workers\n",
    "with Pool() as p:\n",
    "    for row in tqdm(dataset):\n",
    "        # Apply the function to each word in the row in parallel\n",
    "        mapped[row] = p.map(WordCleaner.get_unified_synonym_2, dataset[row])\n",
    "datasets.append(mapped)"
   ]
  },
  {
   "cell_type": "markdown",
   "id": "75f368df",
   "metadata": {},
   "source": [
    "## Calculating tf-idf for the dataset"
   ]
  },
  {
   "cell_type": "code",
   "execution_count": null,
   "id": "98eff815",
   "metadata": {},
   "outputs": [],
   "source": [
    "tfidf_matrix = Indexer.calculate_tf_idf(datasets[-1], vectorizer)"
   ]
  },
  {
   "cell_type": "markdown",
   "id": "cb756f25",
   "metadata": {},
   "source": [
    "## Manual Query"
   ]
  },
  {
   "cell_type": "code",
   "execution_count": null,
   "id": "94fad178",
   "metadata": {},
   "outputs": [],
   "source": [
    "query = \"sdasdasd\"\n",
    "query = word_tokenize(query)\n",
    "query = WordCleaner.remove_stop_words(query)\n",
    "query = WordCleaner.remove_single_letters(query)\n",
    "# query = WordCleaner.stem(query, 'Snowball')\n",
    "query = [WordCleaner.get_unified_synonym_2(word) for word in query]\n",
    "query = WordCleaner.remove_stop_words(query, \"spacy\")\n",
    "query = WordCleaner.lemmatize(query)\n",
    "print(query)"
   ]
  },
  {
   "cell_type": "markdown",
   "id": "1d08b71d",
   "metadata": {},
   "source": [
    "### Calculate TF-IDF and Cosine Similarity"
   ]
  },
  {
   "cell_type": "code",
   "execution_count": null,
   "id": "fd8427af",
   "metadata": {},
   "outputs": [],
   "source": [
    "matrix = Indexer.calculate_doc_tf_idf(query,vectorizer)\n",
    "\n",
    "similar_rows = Matcher.get_query_answers(tfidf_matrix, matrix, dataset_keys, 0.2)\n",
    "\n",
    "for i, (doc_id, score) in enumerate(list(similar_rows.items())[:10]):\n",
    "    print(f\"Rank {i+1}, Document ID: {doc_id}, Similarity Score: {score}\")"
   ]
  },
  {
   "cell_type": "markdown",
   "id": "17659ba6",
   "metadata": {},
   "source": [
    "## Evaluation Queries"
   ]
  },
  {
   "cell_type": "code",
   "execution_count": null,
   "id": "db528201",
   "metadata": {},
   "outputs": [],
   "source": [
    "queries = FileManager.csv_to_dict(\"wikir/gold/queries.csv\")"
   ]
  },
  {
   "cell_type": "code",
   "execution_count": null,
   "id": "43f67789",
   "metadata": {},
   "outputs": [],
   "source": [
    "WordCleaner.remove_stop_words_from_stop_words()"
   ]
  },
  {
   "cell_type": "code",
   "execution_count": null,
   "id": "9dcc6d1d",
   "metadata": {},
   "outputs": [],
   "source": [
    "for key in queries.keys():\n",
    "    queries[key] = WordCleaner.remove_stop_words(queries[key])\n",
    "# for key in queries.keys():\n",
    "#     queries[key] = WordCleaner.process_capital_punctuation(queries[key])\n",
    "for key in queries.keys():\n",
    "    queries[key] = WordCleaner.remove_single_letters(queries[key])\n",
    "for key in queries.keys():\n",
    "    queries[key] = [WordCleaner.get_unified_synonym_2(word) for word in queries[key]]\n",
    "# for key in queries.keys():\n",
    "#     queries[key] = WordCleaner.stem(queries[key], \"Snowball\")\n",
    "for key in queries.keys():\n",
    "    queries[key] = WordCleaner.remove_stop_words(queries[key], \"spacy\")\n",
    "for key in queries.keys():\n",
    "    queries[key] = WordCleaner.lemmatize(queries[key])"
   ]
  },
  {
   "cell_type": "markdown",
   "id": "0320dc0f",
   "metadata": {},
   "source": [
    "### Calculate TF-IDF"
   ]
  },
  {
   "cell_type": "code",
   "execution_count": null,
   "id": "fd3903f0",
   "metadata": {},
   "outputs": [],
   "source": [
    "queries_matrices = {}\n",
    "for key in queries.keys():\n",
    "    queries_matrices[key] = Indexer.calculate_doc_tf_idf([\" \".join(queries[key])],vectorizer)"
   ]
  },
  {
   "cell_type": "markdown",
   "id": "f7d46388",
   "metadata": {},
   "source": [
    "### Calculate Cosine Similarity"
   ]
  },
  {
   "cell_type": "code",
   "execution_count": null,
   "id": "562157b2",
   "metadata": {},
   "outputs": [],
   "source": [
    "queriesAnswers = {}\n",
    "for key in tqdm(queries.keys()):\n",
    "    queriesAnswers[key] = Matcher.get_query_answers(tfidf_matrix,queries_matrices[key],dataset_keys,0.1)"
   ]
  },
  {
   "cell_type": "markdown",
   "id": "1edcaba6",
   "metadata": {},
   "source": [
    "# Evaluation"
   ]
  },
  {
   "cell_type": "code",
   "execution_count": null,
   "id": "10b25b93",
   "metadata": {},
   "outputs": [],
   "source": [
    "Evaluater.evaluate(\"wikir/gold/qrels\",\"wikir/test runs/testrun_wiki_10_epoch_25_045_gold.run\", max_rel=2)"
   ]
  },
  {
   "cell_type": "code",
   "execution_count": null,
   "id": "bdeb30b8",
   "metadata": {},
   "outputs": [],
   "source": [
    "Evaluater.evaluate(\"wikir/gold/qrels\",\"wikir/test runs/testrun_RRM2L_01_gold.run\", max_rel=2)"
   ]
  },
  {
   "cell_type": "code",
   "execution_count": null,
   "id": "11581409",
   "metadata": {},
   "outputs": [],
   "source": [
    "Evaluater.evaluate(\"wikir/qrels\",\"test runs/testrun_RRM2L_01.run\", max_rel=2)"
   ]
  },
  {
   "cell_type": "code",
   "execution_count": null,
   "id": "883e5605",
   "metadata": {},
   "outputs": [],
   "source": [
    "Evaluater.evaluate(\"wikir/test/qrels\",\"test runs/testrun_RRM2L_01_test.run\", max_rel=2)"
   ]
  },
  {
   "cell_type": "code",
   "execution_count": null,
   "id": "83dcf994",
   "metadata": {},
   "outputs": [],
   "source": [
    "Evaluater.evaluate(\"wikir/test/qrels\",\"wikir/test runs/testrun_wiki_9_epoch_30_05_test.run\", max_rel=2)"
   ]
  },
  {
   "cell_type": "code",
   "execution_count": null,
   "id": "0342d85a",
   "metadata": {},
   "outputs": [],
   "source": [
    "Evaluater.evaluate(\"wikir/test/qrels\",\"wikir/test runs/testrun_wiki_10_epoch_25_05_test.run\", max_rel=2)"
   ]
  },
  {
   "cell_type": "markdown",
   "id": "e3311fe2",
   "metadata": {},
   "source": [
    "# Write To Files"
   ]
  },
  {
   "cell_type": "markdown",
   "id": "731ad4ac",
   "metadata": {},
   "source": [
    "## Dataset"
   ]
  },
  {
   "cell_type": "code",
   "execution_count": null,
   "id": "13c2eea2",
   "metadata": {},
   "outputs": [],
   "source": [
    "FileManager.write_dataset_to_file(\"wikir/RRM2RL.csv\",datasets[-1])"
   ]
  },
  {
   "cell_type": "markdown",
   "id": "d8a34c7e",
   "metadata": {},
   "source": [
    "## Run File"
   ]
  },
  {
   "cell_type": "code",
   "execution_count": null,
   "id": "d525af42",
   "metadata": {},
   "outputs": [],
   "source": [
    "FileManager.write_runfile_to_file(\"wikir/test runs/testrun_RRM2L_01_gold.run\",queries,queriesAnswers)"
   ]
  },
  {
   "cell_type": "markdown",
   "id": "7bdbe7ab",
   "metadata": {},
   "source": [
    "## Model"
   ]
  },
  {
   "cell_type": "markdown",
   "id": "3094d4e4",
   "metadata": {},
   "source": [
    "### Write"
   ]
  },
  {
   "cell_type": "code",
   "execution_count": null,
   "id": "379b09d8",
   "metadata": {},
   "outputs": [],
   "source": [
    "FileManager.write_model_to_drive(\"models/Model_RRM2LR\",vectorizer, dataset_keys, tfidf_matrix)"
   ]
  },
  {
   "cell_type": "markdown",
   "id": "34d03817",
   "metadata": {},
   "source": [
    "### Read"
   ]
  },
  {
   "cell_type": "code",
   "execution_count": null,
   "id": "b8da4498",
   "metadata": {},
   "outputs": [],
   "source": [
    "vectorizer, dataset_keys, tfidf_matrix = FileManager.load_model_from_drive(\"models/Model_RRM2L\")"
   ]
  },
  {
   "cell_type": "markdown",
   "id": "65a15f9c",
   "metadata": {},
   "source": [
    "## Word Embedding"
   ]
  },
  {
   "cell_type": "code",
   "execution_count": null,
   "id": "543a60c9",
   "metadata": {},
   "outputs": [],
   "source": [
    "dataset = datasets[-1]\n",
    "# Convert to a list of tokenized documents\n",
    "tokenized_documents = dataset.values()"
   ]
  },
  {
   "cell_type": "code",
   "execution_count": null,
   "id": "70e64c25",
   "metadata": {},
   "outputs": [],
   "source": [
    "model = Word2Vec(sentences=tokenized_documents,\n",
    "                          vector_size=1000,  # Dimensionality of the word vectors (100 is Good for a medium-sized dataset)\n",
    "                          window=7,         # Maximum distance between the current and predicted word within a sentence ( 5 Balances local and broader context)\n",
    "                          sg=1,             # Skip-Gram model (1 for Skip-Gram (can capture complex patterns), 0 for CBOW)\n",
    "                          min_count=2,      # Ignores all words with a total frequency lower than this (2 is Low enough to not lose infrequent words)\n",
    "                          workers = 14\n",
    "                          )"
   ]
  },
  {
   "cell_type": "code",
   "execution_count": null,
   "id": "3134d713",
   "metadata": {},
   "outputs": [],
   "source": [
    "model.train(tokenized_documents, total_examples=len(tokenized_documents), epochs=3)"
   ]
  },
  {
   "cell_type": "code",
   "execution_count": null,
   "id": "e4843323",
   "metadata": {},
   "outputs": [],
   "source": [
    "documents_vectors = []\n",
    "for doc in tqdm(tokenized_documents):\n",
    "    # Filter out tokens not in the model's vocabulary\n",
    "    valid_tokens = [token for token in doc if token in model.wv]\n",
    "    # Calculate the average vector for each document\n",
    "    if valid_tokens:  # Check if there are any valid tokens\n",
    "        doc_vector = np.mean([model.wv[token] for token in valid_tokens], axis=0)\n",
    "        documents_vectors.append(doc_vector)\n",
    "    else:\n",
    "        # Handle documents with no valid tokens (e.g., empty documents)\n",
    "        documents_vectors.append(np.zeros(model.vector_size))\n",
    "\n",
    "# Convert to a 2D array\n",
    "documents_vectors = np.array(documents_vectors)"
   ]
  },
  {
   "cell_type": "code",
   "execution_count": null,
   "id": "aed34324",
   "metadata": {},
   "outputs": [],
   "source": [
    "model.save(\"wikir/models/embedding_9_epoch_10\")"
   ]
  },
  {
   "cell_type": "code",
   "execution_count": null,
   "id": "02f367ef",
   "metadata": {},
   "outputs": [],
   "source": [
    "model = Word2Vec.load(\"wikir/models/embedding_9_epoch_10\")"
   ]
  },
  {
   "cell_type": "code",
   "execution_count": null,
   "id": "c607421c",
   "metadata": {},
   "outputs": [],
   "source": [
    "# Save word2vec model\n",
    "FileManager.save_word2vec_model(model, \"embedding_10_epoch_25\", documents_vectors, \"embedding_10_epoch_25\")"
   ]
  },
  {
   "cell_type": "code",
   "execution_count": null,
   "id": "b70650f7",
   "metadata": {},
   "outputs": [],
   "source": [
    "# Load word2vec model\n",
    "model, documents_vectors = FileManager.load_word2vec_model(\"embedding_9_epoch_20.model\", \"embedding_9_epoch_20.npy\")"
   ]
  },
  {
   "cell_type": "code",
   "execution_count": null,
   "id": "c7f15ec1",
   "metadata": {},
   "outputs": [],
   "source": [
    "queries_matrices = {}\n",
    "for key, query_tokens in queries.items():\n",
    "    # Filter out tokens not in the model's vocabulary\n",
    "    valid_tokens = [token for token in query_tokens if token in model.wv]\n",
    "\n",
    "    # Calculate the average vector for each query\n",
    "    if valid_tokens:\n",
    "        query_vector = np.mean([model.wv[token] for token in valid_tokens], axis=0)\n",
    "        queries_matrices[key] = query_vector\n",
    "    else:\n",
    "        # Handle queries with no valid tokens\n",
    "        print(\"Query with no valid tokens: \" + key)\n",
    "        queries_matrices[key] = np.zeros(model.vector_size)\n"
   ]
  },
  {
   "cell_type": "code",
   "execution_count": null,
   "id": "8d525019",
   "metadata": {},
   "outputs": [],
   "source": [
    "queries_answers = {}\n",
    "\n",
    "for key in tqdm(queries.keys()):\n",
    "    # Reshape the query vector to 2D\n",
    "    query_vector_2d = queries_matrices[key].reshape(1, -1)\n",
    "    # Calculate answers for one query at a time\n",
    "    queries_answers[key] = Matcher.get_query_answers(documents_vectors, query_vector_2d, dataset_keys, 0.45)\n"
   ]
  },
  {
   "cell_type": "code",
   "execution_count": null,
   "id": "8d525019",
   "metadata": {},
   "outputs": [],
   "source": [
    "# Write to run file\n",
    "FileManager.write_runfile_to_file('wikir/test runs/testrun_wiki_10_epoch_25_045_gold.run', queries, queries_answers)"
   ]
  },
  {
   "cell_type": "markdown",
   "id": "4b3d0ed9",
   "metadata": {},
   "source": [
    "## Manual Query"
   ]
  },
  {
   "cell_type": "code",
   "execution_count": null,
   "id": "c7000286",
   "metadata": {},
   "outputs": [],
   "source": [
    "query = WordCleaner.query_cleaning(\"wikipedia\")\n",
    "print(query)\n",
    "valid_vectors = [model.wv[word] for word in query if word in model.wv]\n",
    "# Check if there are valid vectors to avoid nan issues\n",
    "if valid_vectors:\n",
    "    query_vector = np.mean(valid_vectors, axis=0).reshape(1, -1)\n",
    "    # Compute cosine similarity between query and document vectors\n",
    "    similar_docs = Matcher.get_query_answers(documents_vectors, query_vector, dataset_keys, 0.5)\n",
    "    # Print the IDs of the top 5 most similar documents\n",
    "    for i, (doc_id, score) in enumerate(list(similar_docs.items())[:20]):\n",
    "        print(f\"Rank {i+1}, Document ID: {doc_id}, Similarity Score: {score}\")\n",
    "else:\n",
    "    print(\"None of the query words were found in the model's vocabulary.\")"
   ]
  },
  {
   "cell_type": "markdown",
   "id": "949e2a74",
   "metadata": {},
   "source": [
    "## Personalization"
   ]
  },
  {
   "cell_type": "code",
   "execution_count": null,
   "id": "a52b18bc",
   "metadata": {},
   "outputs": [],
   "source": [
    "Personalizer.clear_history()"
   ]
  },
  {
   "cell_type": "code",
   "execution_count": null,
   "id": "77ccd0ae",
   "metadata": {},
   "outputs": [],
   "source": [
    "Personalizer.get_ans_persona_word_2_vec(\"wikipedia\", model, documents_vectors, dataset_keys)"
   ]
  },
  {
   "cell_type": "markdown",
   "id": "6770f913",
   "metadata": {},
   "source": [
    "## Clustering"
   ]
  },
  {
   "cell_type": "code",
   "execution_count": null,
   "id": "5cd38819",
   "metadata": {},
   "outputs": [],
   "source": [
    "from python import Clusterer\n",
    "\n",
    "c = Clusterer.Clusterer(documents_vectors, 5)\n",
    "c.getTopics(dataset, keys=dataset_keys)\n",
    "c.plot(size=(21, 15))"
   ]
  },
  {
   "cell_type": "markdown",
   "id": "53b50fe7",
   "metadata": {},
   "source": [
    "## Tests"
   ]
  },
  {
   "cell_type": "code",
   "execution_count": null,
   "id": "a7d60099",
   "metadata": {},
   "outputs": [],
   "source": [
    "print(model.wv.most_similar(positive=['king'], negative=['man']))"
   ]
  },
  {
   "cell_type": "markdown",
   "id": "a70e3bb7",
   "metadata": {},
   "source": [
    "## Plot similar words"
   ]
  },
  {
   "cell_type": "code",
   "execution_count": null,
   "id": "41071cbf",
   "metadata": {},
   "outputs": [],
   "source": [
    "import numpy as np\n",
    "from sklearn.decomposition import PCA\n",
    "import matplotlib.pyplot as plt\n",
    "\n",
    "def display_pca_scatterplot(model, words=None, sample=0):\n",
    "    if words is None:\n",
    "        if sample > 0:\n",
    "            words = np.random.choice(list(model.wv.index_to_key), sample)\n",
    "        else:\n",
    "            words = list(model.wv.index_to_key)\n",
    "        \n",
    "    word_vectors = np.array([model.wv[word] for word in words])\n",
    "\n",
    "    # Determine the appropriate number of components (up to min(n_samples, n_features))\n",
    "    n_components = min(word_vectors.shape[0], word_vectors.shape[1])\n",
    "\n",
    "    if n_components > 1:\n",
    "        twodim = PCA(n_components=n_components).fit_transform(word_vectors)[:, :2]\n",
    "        plt.figure(figsize=(15, 9))\n",
    "        plt.scatter(twodim[:, 0], twodim[:, 1], edgecolors='k', c='r')\n",
    "        for word, (x, y) in zip(words, twodim):\n",
    "            plt.text(x + 0.05, y + 0.05, word)\n",
    "        plt.show()\n",
    "    else:\n",
    "        print(\"Insufficient data for PCA visualization.\")\n",
    "\n",
    "# Example usage:\n",
    "display_pca_scatterplot(model, ['kitchen', 'sink', 'bathroom', 'toilet', 'shower', 'rome', 'italy', 'milan', 'barcelona', 'madrid', 'spain',\n",
    "                                'king', 'queen', 'cat', 'dog', 'pet', 'kingdom', 'throne'])\n"
   ]
  }
 ],
 "metadata": {
  "kernelspec": {
   "display_name": "Python 3 (ipykernel)",
   "language": "python",
   "name": "python3"
  },
  "language_info": {
   "codemirror_mode": {
    "name": "ipython",
    "version": 3
   },
   "file_extension": ".py",
   "mimetype": "text/x-python",
   "name": "python",
   "nbconvert_exporter": "python",
   "pygments_lexer": "ipython3",
   "version": "3.11.7"
  }
 },
 "nbformat": 4,
 "nbformat_minor": 5
}
