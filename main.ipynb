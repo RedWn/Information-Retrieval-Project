{
 "cells": [
  {
   "cell_type": "markdown",
   "id": "07ab75af",
   "metadata": {},
   "source": [
    "## Import Libraries"
   ]
  },
  {
   "cell_type": "code",
   "execution_count": null,
   "id": "fc4c3dfb",
   "metadata": {},
   "outputs": [],
   "source": [
    "import FileManager\n",
    "import WordCleaner\n",
    "%load_ext autoreload\n",
    "%autoreload 2"
   ]
  },
  {
   "cell_type": "markdown",
   "id": "069c2740",
   "metadata": {},
   "source": [
    "## Load Files"
   ]
  },
  {
   "cell_type": "code",
   "execution_count": null,
   "id": "91d69ec5",
   "metadata": {},
   "outputs": [],
   "source": [
    "dataset = FileManager.openCSVRead('testing.csv')\n",
    "stemmedFileWriter = FileManager.openCSVWriter('stemmed.csv',['id','text'])"
   ]
  },
  {
   "cell_type": "markdown",
   "id": "6621f9e3",
   "metadata": {},
   "source": [
    "## Stemming"
   ]
  },
  {
   "cell_type": "code",
   "execution_count": null,
   "id": "4377f840",
   "metadata": {},
   "outputs": [],
   "source": [
    "stemmed_dataset = {}\n",
    "for row in dataset:\n",
    "    stemmed_words = WordCleaner.stem(row['text'], 'porter')\n",
    "    stemmed_dataset[row['id']] = stemmed_words\n",
    "    # stemmedFileWriter.writerow({'id': row['id'], 'text': stemmed_words})"
   ]
  },
  {
   "cell_type": "markdown",
   "id": "8bd7a58d",
   "metadata": {},
   "source": [
    "## Lemmatization"
   ]
  },
  {
   "cell_type": "code",
   "execution_count": 64,
   "id": "43fe0f11",
   "metadata": {},
   "outputs": [],
   "source": [
    "stemmed_dataset = {}\n",
    "for row in dataset:\n",
    "    stemmed_words = WordCleaner.lemmatize(row['text'])\n",
    "    stemmed_dataset[row['id']] = stemmed_words\n",
    "    # stemmedFileWriter.writerow({'id': row['id'], 'text': stemmed_words})"
   ]
  },
  {
   "cell_type": "markdown",
   "id": "ae375500",
   "metadata": {},
   "source": [
    "## Removing Stopwords"
   ]
  },
  {
   "cell_type": "code",
   "execution_count": 65,
   "id": "65723f2b",
   "metadata": {},
   "outputs": [],
   "source": [
    "filtered_dataset = {}\n",
    "for key in stemmed_dataset:\n",
    "    filtered_dataset[key] = WordCleaner.removeStopWords(stemmed_dataset[key])"
   ]
  },
  {
   "cell_type": "markdown",
   "id": "e3311fe2",
   "metadata": {},
   "source": [
    "## Write To File"
   ]
  },
  {
   "cell_type": "code",
   "execution_count": 67,
   "id": "13c2eea2",
   "metadata": {},
   "outputs": [],
   "source": [
    "for key in filtered_dataset:\n",
    "    stemmedFileWriter.writerow({'id': key, 'text': filtered_dataset[key]})"
   ]
  }
 ],
 "metadata": {
  "kernelspec": {
   "display_name": "Python 3 (ipykernel)",
   "language": "python",
   "name": "python3"
  },
  "language_info": {
   "codemirror_mode": {
    "name": "ipython",
    "version": 3
   },
   "file_extension": ".py",
   "mimetype": "text/x-python",
   "name": "python",
   "nbconvert_exporter": "python",
   "pygments_lexer": "ipython3",
   "version": "3.11.7"
  }
 },
 "nbformat": 4,
 "nbformat_minor": 5
}
