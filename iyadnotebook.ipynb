{
 "cells": [
  {
   "cell_type": "markdown",
   "id": "07ab75af",
   "metadata": {},
   "source": [
    "## Import Libraries"
   ]
  },
  {
   "cell_type": "code",
   "execution_count": null,
   "id": "fc4c3dfb",
   "metadata": {},
   "outputs": [],
   "source": [
    "import FileManager\n",
    "import WordCleaner\n",
    "import Indexer\n",
    "%load_ext autoreload\n",
    "%autoreload 2"
   ]
  },
  {
   "cell_type": "markdown",
   "id": "069c2740",
   "metadata": {},
   "source": [
    "## Load Files"
   ]
  },
  {
   "cell_type": "code",
   "execution_count": null,
   "id": "91d69ec5",
   "metadata": {},
   "outputs": [],
   "source": [
    "dataset = FileManager.csvToDict('testing.csv')"
   ]
  },
  {
   "cell_type": "markdown",
   "id": "6621f9e3",
   "metadata": {},
   "source": [
    "## Stemming"
   ]
  },
  {
   "cell_type": "code",
   "execution_count": null,
   "id": "4377f840",
   "metadata": {},
   "outputs": [],
   "source": [
    "stemmed_dataset = {}\n",
    "# To clear the contents of the file\n",
    "stemmed_file_writer, file = FileManager.openCSVWriter('stemmed.csv',['id','text'])\n",
    "for row in dataset:\n",
    "    stemmed_dataset[row] = WordCleaner.stem(dataset[row], 'porter')\n",
    "    stemmed_file_writer.writerow({'id': row, 'text': stemmed_dataset[row]})"
   ]
  },
  {
   "cell_type": "markdown",
   "id": "b1a44920",
   "metadata": {},
   "source": [
    "### Removing stop words"
   ]
  },
  {
   "cell_type": "code",
   "execution_count": null,
   "id": "65723f2b",
   "metadata": {},
   "outputs": [],
   "source": [
    "stemmed_filtered_dataset = {}\n",
    "stemmed_file_writer, file = FileManager.openCSVWriter('stemmed.csv',['id','text'])\n",
    "for key in stemmed_dataset:\n",
    "    stemmed_filtered_dataset[key] = WordCleaner.removeStopWords(stemmed_dataset[key])\n",
    "    stemmed_file_writer.writerow({'id': key, 'text': stemmed_filtered_dataset[key]})"
   ]
  },
  {
   "cell_type": "markdown",
   "id": "8bd7a58d",
   "metadata": {},
   "source": [
    "## OR Lemmatization"
   ]
  },
  {
   "cell_type": "code",
   "execution_count": null,
   "id": "43fe0f11",
   "metadata": {},
   "outputs": [],
   "source": [
    "lemmatized_dataset = {}\n",
    "lemmatized_file_writer, file = FileManager.openCSVWriter('lemmatized.csv',['id','text'])\n",
    "for row in dataset:\n",
    "    lemmatized_dataset[row] = WordCleaner.lemmatize(dataset[row])\n",
    "    lemmatized_file_writer.writerow({'id': row, 'text': lemmatized_dataset[row]})"
   ]
  },
  {
   "cell_type": "markdown",
   "id": "ae375500",
   "metadata": {},
   "source": [
    "### Removing Stopwords"
   ]
  },
  {
   "cell_type": "code",
   "execution_count": null,
   "id": "2c029816",
   "metadata": {},
   "outputs": [],
   "source": [
    "lemmatized_filtered_dataset = {}\n",
    "lemmatized_file_writer, file = FileManager.openCSVWriter('lemmatized.csv',['id','text'])\n",
    "for key in lemmatized_dataset:\n",
    "    lemmatized_filtered_dataset[key] = WordCleaner.removeStopWords(lemmatized_dataset[key])\n",
    "    lemmatized_file_writer.writerow({'id': key, 'text': lemmatized_filtered_dataset[key]})"
   ]
  },
  {
   "cell_type": "markdown",
   "id": "c995bcb4",
   "metadata": {},
   "source": [
    "## Creating the inverted index\n",
    "### for stemmed"
   ]
  },
  {
   "cell_type": "code",
   "execution_count": null,
   "id": "a38e6a59",
   "metadata": {},
   "outputs": [],
   "source": [
    "stemmed_inverted_index = Indexer.getInvertedIndex(stemmed_filtered_dataset)\n",
    "stemmed_inverted_index"
   ]
  },
  {
   "cell_type": "markdown",
   "id": "357f0b27",
   "metadata": {},
   "source": [
    "### for lemmatized"
   ]
  },
  {
   "cell_type": "code",
   "execution_count": null,
   "id": "4c778fd3",
   "metadata": {},
   "outputs": [],
   "source": [
    "lemmatized_inverted_index = Indexer.getInvertedIndex(lemmatized_filtered_dataset)\n",
    "lemmatized_inverted_index"
   ]
  },
  {
   "cell_type": "markdown",
   "id": "75f368df",
   "metadata": {},
   "source": [
    "## Calculating tf-idf for the document\n",
    "### for stemmed"
   ]
  },
  {
   "cell_type": "code",
   "execution_count": null,
   "id": "98eff815",
   "metadata": {},
   "outputs": [],
   "source": [
    "(tfidf_matrix, df) = Indexer.calculateTF_IDF(stemmed_filtered_dataset)\n",
    "df"
   ]
  },
  {
   "cell_type": "markdown",
   "id": "43eb61aa",
   "metadata": {},
   "source": [
    "### for lemmatized"
   ]
  },
  {
   "cell_type": "code",
   "execution_count": null,
   "id": "4ed8e8a0",
   "metadata": {},
   "outputs": [],
   "source": [
    "(tfidf_matrix, df) = Indexer.calculateTF_IDF(lemmatized_filtered_dataset)\n",
    "df"
   ]
  }
 ],
 "metadata": {
  "kernelspec": {
   "display_name": "Python 3 (ipykernel)",
   "language": "python",
   "name": "python3"
  },
  "language_info": {
   "codemirror_mode": {
    "name": "ipython",
    "version": 3
   },
   "file_extension": ".py",
   "mimetype": "text/x-python",
   "name": "python",
   "nbconvert_exporter": "python",
   "pygments_lexer": "ipython3",
   "version": "3.11.7"
  }
 },
 "nbformat": 4,
 "nbformat_minor": 5
}
