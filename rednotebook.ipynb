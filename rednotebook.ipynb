{
 "cells": [
  {
   "cell_type": "markdown",
   "id": "07ab75af",
   "metadata": {},
   "source": [
    "# Import Libraries"
   ]
  },
  {
   "cell_type": "code",
   "execution_count": null,
   "id": "fc4c3dfb",
   "metadata": {},
   "outputs": [],
   "source": [
    "import FileManager\n",
    "import WordCleaner\n",
    "import Indexer\n",
    "import Matcher\n",
    "import Evaluater\n",
    "from sklearn.feature_extraction.text import TfidfVectorizer\n",
    "%load_ext autoreload\n",
    "%autoreload 2"
   ]
  },
  {
   "cell_type": "markdown",
   "id": "f86b2947",
   "metadata": {},
   "source": [
    "# Dataset Manipulation "
   ]
  },
  {
   "cell_type": "markdown",
   "id": "069c2740",
   "metadata": {},
   "source": [
    "## Load Files"
   ]
  },
  {
   "cell_type": "code",
   "execution_count": null,
   "id": "91d69ec5",
   "metadata": {},
   "outputs": [],
   "source": [
    "vectorizer = TfidfVectorizer()\n",
    "\n",
    "dataset = FileManager.csv_to_dict('wikir/stemmed4.csv')\n",
    "datasets = [dataset]"
   ]
  },
  {
   "cell_type": "markdown",
   "id": "6621f9e3",
   "metadata": {},
   "source": [
    "## Stemming"
   ]
  },
  {
   "cell_type": "code",
   "execution_count": null,
   "id": "4377f840",
   "metadata": {},
   "outputs": [],
   "source": [
    "dataset = datasets[-1]\n",
    "stemmed_dataset = {}\n",
    "for row in dataset:\n",
    "    stemmed_dataset[row] = WordCleaner.stem(dataset[row], 'Snowball')\n",
    "datasets.append(stemmed_dataset)"
   ]
  },
  {
   "cell_type": "markdown",
   "id": "8bd7a58d",
   "metadata": {},
   "source": [
    "## OR Lemmatization"
   ]
  },
  {
   "cell_type": "code",
   "execution_count": null,
   "id": "43fe0f11",
   "metadata": {},
   "outputs": [],
   "source": [
    "dataset = datasets[-1]\n",
    "lemmad_dataset = {}\n",
    "for row in dataset:\n",
    "    lemmad_dataset[row] = WordCleaner.lemmatize(dataset[row])\n",
    "datasets.append(lemmad_dataset)"
   ]
  },
  {
   "cell_type": "markdown",
   "id": "ae375500",
   "metadata": {},
   "source": [
    "## Removing Stopwords"
   ]
  },
  {
   "cell_type": "code",
   "execution_count": null,
   "id": "65723f2b",
   "metadata": {},
   "outputs": [],
   "source": [
    "dataset = datasets[-1]\n",
    "filtered_dataset = {}\n",
    "for key in dataset:\n",
    "    filtered_dataset[key] = WordCleaner.remove_stop_words(dataset[key])\n",
    "datasets.append(filtered_dataset)\n",
    "\n",
    "# getsizeof(datasets[-1]) #15379200"
   ]
  },
  {
   "cell_type": "markdown",
   "id": "75f368df",
   "metadata": {},
   "source": [
    "## Calculating tf-idf for the document"
   ]
  },
  {
   "cell_type": "markdown",
   "id": "48b60ed8",
   "metadata": {},
   "source": [
    "### using Scikit Learn"
   ]
  },
  {
   "cell_type": "code",
   "execution_count": null,
   "id": "98eff815",
   "metadata": {},
   "outputs": [],
   "source": [
    "tfidf_matrix = Indexer.calculate_tf_idf(datasets[-1], vectorizer)\n",
    "dataset_key = list(datasets[-1].keys())\n",
    "# import pandas as pd\n",
    "# tfidf_matrix\n",
    "# df = pd.DataFrame(\n",
    "#         tfidf_matrix.toarray(),\n",
    "#         columns=vectorizer.get_feature_names_out(),\n",
    "#         index=datasets[-1].keys(),\n",
    "#     )\n",
    "\n",
    "# df"
   ]
  },
  {
   "cell_type": "markdown",
   "id": "152773d9",
   "metadata": {},
   "source": [
    "## Calculate Cosine Sim"
   ]
  },
  {
   "cell_type": "code",
   "execution_count": null,
   "id": "51477a55",
   "metadata": {},
   "outputs": [],
   "source": [
    "related_docs = Matcher.calculate_cos_similarity(df,df.iloc[8])\n",
    "\n",
    "# Print the sorted related documents\n",
    "print(\"Related Docs (similarity > 0.5):\")\n",
    "for doc, sim in related_docs:\n",
    "    print(f\"Doc {doc}: Similarity = {sim:.4f}\")"
   ]
  },
  {
   "cell_type": "markdown",
   "id": "f9cdd8aa",
   "metadata": {},
   "source": [
    "# Query Manipulation "
   ]
  },
  {
   "cell_type": "markdown",
   "id": "17659ba6",
   "metadata": {},
   "source": [
    "## Enter query"
   ]
  },
  {
   "cell_type": "markdown",
   "id": "8235d041",
   "metadata": {},
   "source": [
    "### Manual"
   ]
  },
  {
   "cell_type": "code",
   "execution_count": null,
   "id": "94fad178",
   "metadata": {},
   "outputs": [],
   "source": [
    "from nltk.tokenize import word_tokenize\n",
    "query = 'hello sister where is your hijab'\n",
    "query = word_tokenize(query)"
   ]
  },
  {
   "cell_type": "markdown",
   "id": "6d8174a6",
   "metadata": {},
   "source": [
    "### From File"
   ]
  },
  {
   "cell_type": "code",
   "execution_count": null,
   "id": "97eecb6d",
   "metadata": {},
   "outputs": [],
   "source": [
    "queries = FileManager.csv_to_dict('wikir/queries.csv')"
   ]
  },
  {
   "cell_type": "markdown",
   "id": "c11898f4",
   "metadata": {},
   "source": [
    "## Removing Stop Words"
   ]
  },
  {
   "cell_type": "code",
   "execution_count": null,
   "id": "add7fe91",
   "metadata": {},
   "outputs": [],
   "source": [
    "query = WordCleaner.remove_stop_words(query)"
   ]
  },
  {
   "cell_type": "markdown",
   "id": "eef04e2d",
   "metadata": {},
   "source": [
    "## Stem or Lem"
   ]
  },
  {
   "cell_type": "code",
   "execution_count": null,
   "id": "7a335552",
   "metadata": {},
   "outputs": [],
   "source": [
    "query = WordCleaner.stem(query, 'Snowball')"
   ]
  },
  {
   "cell_type": "markdown",
   "id": "b0feeecf",
   "metadata": {},
   "source": [
    "### From File"
   ]
  },
  {
   "cell_type": "code",
   "execution_count": null,
   "id": "9dcc6d1d",
   "metadata": {},
   "outputs": [],
   "source": [
    "for key in queries.keys():\n",
    "    queries[key] = WordCleaner.stem(queries[key], 'Snowball')"
   ]
  },
  {
   "cell_type": "markdown",
   "id": "16696076",
   "metadata": {},
   "source": [
    "## Calculate TF-IDF"
   ]
  },
  {
   "cell_type": "code",
   "execution_count": null,
   "id": "859dc7da",
   "metadata": {},
   "outputs": [],
   "source": [
    "qdf = Indexer.calculate_doc_tf_idf([' '.join(query)],vectorizer)\n",
    "\n",
    "qdf"
   ]
  },
  {
   "cell_type": "markdown",
   "id": "045fc639",
   "metadata": {},
   "source": [
    "### From File"
   ]
  },
  {
   "cell_type": "code",
   "execution_count": null,
   "id": "eda7f2aa",
   "metadata": {},
   "outputs": [],
   "source": [
    "queries_matrices = {}\n",
    "for key in queries.keys():\n",
    "    queries_matrices[key] = Indexer.calculate_doc_tf_idf([' '.join(queries[key])],vectorizer)"
   ]
  },
  {
   "cell_type": "markdown",
   "id": "762e6073",
   "metadata": {},
   "source": [
    "## Calculate Cosine Similarity"
   ]
  },
  {
   "cell_type": "code",
   "execution_count": null,
   "id": "fd8427af",
   "metadata": {},
   "outputs": [],
   "source": [
    "similar_rows = Matcher.get_query_answers(tfidf_matrix,qdf,0.25)\n",
    "\n",
    "for row in similar_rows.items():\n",
    "    print(row)"
   ]
  },
  {
   "cell_type": "markdown",
   "id": "59098168",
   "metadata": {},
   "source": [
    "### From File"
   ]
  },
  {
   "cell_type": "code",
   "execution_count": null,
   "id": "562157b2",
   "metadata": {},
   "outputs": [],
   "source": [
    "queriesAnswers = {}\n",
    "for key in queries.keys():\n",
    "    queriesAnswers[key] = Matcher.get_query_answers(tfidf_matrix,queries_matrices[key],dataset_key,0.25)"
   ]
  },
  {
   "cell_type": "markdown",
   "id": "1edcaba6",
   "metadata": {},
   "source": [
    "# Evaluation"
   ]
  },
  {
   "cell_type": "code",
   "execution_count": null,
   "id": "a6412b55",
   "metadata": {},
   "outputs": [],
   "source": [
    "Evaluater.evaluate(\"wikir/qrels\",\"testrun\",\"[nDCG @ 10, P @ 5, P(rel=2) @ 5, Judged @ 10]\")"
   ]
  },
  {
   "cell_type": "markdown",
   "id": "e3311fe2",
   "metadata": {},
   "source": [
    "# Write To Files"
   ]
  },
  {
   "cell_type": "markdown",
   "id": "731ad4ac",
   "metadata": {},
   "source": [
    "## Dataset"
   ]
  },
  {
   "cell_type": "code",
   "execution_count": null,
   "id": "13c2eea2",
   "metadata": {},
   "outputs": [],
   "source": [
    "FileManager.write_dataset_to_file('stemmed255.csv',datasets[-1])"
   ]
  },
  {
   "cell_type": "markdown",
   "id": "d8a34c7e",
   "metadata": {},
   "source": [
    "## Run File"
   ]
  },
  {
   "cell_type": "code",
   "execution_count": null,
   "id": "d525af42",
   "metadata": {},
   "outputs": [],
   "source": [
    "FileManager.write_runfile_to_file('testrun',queries,queriesAnswers)"
   ]
  },
  {
   "cell_type": "markdown",
   "id": "7bdbe7ab",
   "metadata": {},
   "source": [
    "## Model"
   ]
  },
  {
   "cell_type": "code",
   "execution_count": null,
   "id": "379b09d8",
   "metadata": {},
   "outputs": [],
   "source": [
    "FileManager.write_model_to_file('model.pickle',tfidf_matrix)\n",
    "\n",
    "# ddf = FileManager.load_model_from_file(\"model.pickle\")\n",
    "\n",
    "# ddf"
   ]
  }
 ],
 "metadata": {
  "kernelspec": {
   "display_name": "Python 3 (ipykernel)",
   "language": "python",
   "name": "python3"
  },
  "language_info": {
   "codemirror_mode": {
    "name": "ipython",
    "version": 3
   },
   "file_extension": ".py",
   "mimetype": "text/x-python",
   "name": "python",
   "nbconvert_exporter": "python",
   "pygments_lexer": "ipython3",
   "version": "3.11.7"
  }
 },
 "nbformat": 4,
 "nbformat_minor": 5
}
