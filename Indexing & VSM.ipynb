{
 "cells": [
  {
   "cell_type": "markdown",
   "id": "f85d168e",
   "metadata": {},
   "source": [
    "## Importing the libraries"
   ]
  },
  {
   "cell_type": "code",
   "execution_count": 2,
   "id": "891e56dd",
   "metadata": {},
   "outputs": [],
   "source": [
    "import pandas as pd\n",
    "import math\n",
    "from nltk.tokenize import word_tokenize\n",
    "from collections import defaultdict\n",
    "from sklearn.feature_extraction.text import TfidfVectorizer"
   ]
  },
  {
   "cell_type": "markdown",
   "id": "3fc3ad99",
   "metadata": {},
   "source": [
    "## Defining the documents (corpus) dictionary"
   ]
  },
  {
   "cell_type": "code",
   "execution_count": 4,
   "id": "f1f33f8e",
   "metadata": {},
   "outputs": [
    {
     "data": {
      "text/html": [
       "<div>\n",
       "<style scoped>\n",
       "    .dataframe tbody tr th:only-of-type {\n",
       "        vertical-align: middle;\n",
       "    }\n",
       "\n",
       "    .dataframe tbody tr th {\n",
       "        vertical-align: top;\n",
       "    }\n",
       "\n",
       "    .dataframe thead th {\n",
       "        text-align: right;\n",
       "    }\n",
       "</style>\n",
       "<table border=\"1\" class=\"dataframe\">\n",
       "  <thead>\n",
       "    <tr style=\"text-align: right;\">\n",
       "      <th></th>\n",
       "      <th>doc_1</th>\n",
       "      <th>doc_2</th>\n",
       "      <th>doc_3</th>\n",
       "    </tr>\n",
       "  </thead>\n",
       "  <tbody>\n",
       "    <tr>\n",
       "      <th>Document</th>\n",
       "      <td>Software engineering at Damascus university So...</td>\n",
       "      <td>Information retrieval at Damascus university</td>\n",
       "      <td>Indexing Information retrieval</td>\n",
       "    </tr>\n",
       "  </tbody>\n",
       "</table>\n",
       "</div>"
      ],
      "text/plain": [
       "                                                      doc_1  \\\n",
       "Document  Software engineering at Damascus university So...   \n",
       "\n",
       "                                                 doc_2  \\\n",
       "Document  Information retrieval at Damascus university   \n",
       "\n",
       "                                   doc_3  \n",
       "Document  Indexing Information retrieval  "
      ]
     },
     "execution_count": 4,
     "metadata": {},
     "output_type": "execute_result"
    }
   ],
   "source": [
    "corpus = {\n",
    "    \"doc_1\": \"Software engineering at Damascus university Software\",\n",
    "    \"doc_2\": \"Information retrieval at Damascus university\",\n",
    "    \"doc_3\": \"Indexing Information retrieval\"\n",
    "}\n",
    "\n",
    "df = pd.DataFrame(corpus, index=[\"Document\"])\n",
    "df"
   ]
  },
  {
   "cell_type": "markdown",
   "id": "0186e707",
   "metadata": {},
   "source": [
    "## Tokenizing & storing the indexing terms"
   ]
  },
  {
   "cell_type": "code",
   "execution_count": 5,
   "id": "b4336c37",
   "metadata": {},
   "outputs": [
    {
     "data": {
      "text/html": [
       "<div>\n",
       "<style scoped>\n",
       "    .dataframe tbody tr th:only-of-type {\n",
       "        vertical-align: middle;\n",
       "    }\n",
       "\n",
       "    .dataframe tbody tr th {\n",
       "        vertical-align: top;\n",
       "    }\n",
       "\n",
       "    .dataframe thead th {\n",
       "        text-align: right;\n",
       "    }\n",
       "</style>\n",
       "<table border=\"1\" class=\"dataframe\">\n",
       "  <thead>\n",
       "    <tr style=\"text-align: right;\">\n",
       "      <th></th>\n",
       "      <th>0</th>\n",
       "    </tr>\n",
       "  </thead>\n",
       "  <tbody>\n",
       "    <tr>\n",
       "      <th>0</th>\n",
       "      <td>Damascus</td>\n",
       "    </tr>\n",
       "    <tr>\n",
       "      <th>1</th>\n",
       "      <td>Indexing</td>\n",
       "    </tr>\n",
       "    <tr>\n",
       "      <th>2</th>\n",
       "      <td>engineering</td>\n",
       "    </tr>\n",
       "    <tr>\n",
       "      <th>3</th>\n",
       "      <td>university</td>\n",
       "    </tr>\n",
       "    <tr>\n",
       "      <th>4</th>\n",
       "      <td>Information</td>\n",
       "    </tr>\n",
       "    <tr>\n",
       "      <th>5</th>\n",
       "      <td>Software</td>\n",
       "    </tr>\n",
       "    <tr>\n",
       "      <th>6</th>\n",
       "      <td>at</td>\n",
       "    </tr>\n",
       "    <tr>\n",
       "      <th>7</th>\n",
       "      <td>retrieval</td>\n",
       "    </tr>\n",
       "  </tbody>\n",
       "</table>\n",
       "</div>"
      ],
      "text/plain": [
       "             0\n",
       "0     Damascus\n",
       "1     Indexing\n",
       "2  engineering\n",
       "3   university\n",
       "4  Information\n",
       "5     Software\n",
       "6           at\n",
       "7    retrieval"
      ]
     },
     "execution_count": 5,
     "metadata": {},
     "output_type": "execute_result"
    }
   ],
   "source": [
    "indexing_terms = set()\n",
    "\n",
    "for doc in corpus.values():\n",
    "    # TODO : PROCESS THE TEXT BEFORE CREATING THE INDEXING TERMS: STEMMING, LEMMATIZATION, LOWER CASE, ..ETC\n",
    "    indexing_terms.update(word_tokenize(doc))\n",
    "    \n",
    "indexing_terms_df = pd.DataFrame(indexing_terms)\n",
    "indexing_terms_df"
   ]
  },
  {
   "cell_type": "markdown",
   "id": "e3c1c22e",
   "metadata": {},
   "source": [
    "## Create the inverted index"
   ]
  },
  {
   "cell_type": "code",
   "execution_count": 6,
   "id": "ce49e7cf",
   "metadata": {},
   "outputs": [
    {
     "data": {
      "text/plain": [
       "{'Damascus': ['doc_1', 'doc_2'],\n",
       " 'engineering': ['doc_1'],\n",
       " 'university': ['doc_1', 'doc_2'],\n",
       " 'Software': ['doc_1'],\n",
       " 'at': ['doc_1', 'doc_2'],\n",
       " 'Information': ['doc_2', 'doc_3'],\n",
       " 'retrieval': ['doc_2', 'doc_3'],\n",
       " 'Indexing': ['doc_3']}"
      ]
     },
     "execution_count": 6,
     "metadata": {},
     "output_type": "execute_result"
    }
   ],
   "source": [
    "inverted_index = defaultdict(list)\n",
    "\n",
    "for docId, doc in corpus.items():\n",
    "    doc_terms = set(word_tokenize(doc))\n",
    "    for term in doc_terms:\n",
    "        inverted_index[term].append(docId)\n",
    "\n",
    "dict(inverted_index)"
   ]
  },
  {
   "cell_type": "markdown",
   "id": "f3ea20d9",
   "metadata": {},
   "source": [
    "## Calculating the terms frequencies in a document"
   ]
  },
  {
   "cell_type": "code",
   "execution_count": 7,
   "id": "6be0254c",
   "metadata": {},
   "outputs": [
    {
     "data": {
      "text/html": [
       "<div>\n",
       "<style scoped>\n",
       "    .dataframe tbody tr th:only-of-type {\n",
       "        vertical-align: middle;\n",
       "    }\n",
       "\n",
       "    .dataframe tbody tr th {\n",
       "        vertical-align: top;\n",
       "    }\n",
       "\n",
       "    .dataframe thead th {\n",
       "        text-align: right;\n",
       "    }\n",
       "</style>\n",
       "<table border=\"1\" class=\"dataframe\">\n",
       "  <thead>\n",
       "    <tr style=\"text-align: right;\">\n",
       "      <th></th>\n",
       "      <th>Software</th>\n",
       "      <th>engineering</th>\n",
       "      <th>at</th>\n",
       "      <th>Damascus</th>\n",
       "      <th>university</th>\n",
       "    </tr>\n",
       "  </thead>\n",
       "  <tbody>\n",
       "    <tr>\n",
       "      <th>tf</th>\n",
       "      <td>0.333333</td>\n",
       "      <td>0.166667</td>\n",
       "      <td>0.166667</td>\n",
       "      <td>0.166667</td>\n",
       "      <td>0.166667</td>\n",
       "    </tr>\n",
       "  </tbody>\n",
       "</table>\n",
       "</div>"
      ],
      "text/plain": [
       "    Software  engineering        at  Damascus  university\n",
       "tf  0.333333     0.166667  0.166667  0.166667    0.166667"
      ]
     },
     "execution_count": 7,
     "metadata": {},
     "output_type": "execute_result"
    }
   ],
   "source": [
    "def calculate_tf(doc:str):\n",
    "    tf = {}\n",
    "    doc_terms = word_tokenize(doc)\n",
    "    for term in doc_terms:\n",
    "        tf[term] = (doc_terms.count(term) / len(doc_terms)) \n",
    "    return tf\n",
    "\n",
    "tf_df = pd.DataFrame(calculate_tf(corpus['doc_1']), index=[\"tf\"])\n",
    "tf_df"
   ]
  },
  {
   "cell_type": "markdown",
   "id": "13515a3e",
   "metadata": {},
   "source": [
    "## Calculating the inverse document frequencies"
   ]
  },
  {
   "cell_type": "code",
   "execution_count": 187,
   "id": "3c6b3a7b",
   "metadata": {},
   "outputs": [
    {
     "data": {
      "text/html": [
       "<div>\n",
       "<style scoped>\n",
       "    .dataframe tbody tr th:only-of-type {\n",
       "        vertical-align: middle;\n",
       "    }\n",
       "\n",
       "    .dataframe tbody tr th {\n",
       "        vertical-align: top;\n",
       "    }\n",
       "\n",
       "    .dataframe thead th {\n",
       "        text-align: right;\n",
       "    }\n",
       "</style>\n",
       "<table border=\"1\" class=\"dataframe\">\n",
       "  <thead>\n",
       "    <tr style=\"text-align: right;\">\n",
       "      <th></th>\n",
       "      <th>university</th>\n",
       "      <th>Damascus</th>\n",
       "      <th>Software</th>\n",
       "      <th>engineering</th>\n",
       "      <th>at</th>\n",
       "      <th>retrieval</th>\n",
       "      <th>Information</th>\n",
       "      <th>Indexing</th>\n",
       "    </tr>\n",
       "  </thead>\n",
       "  <tbody>\n",
       "    <tr>\n",
       "      <th>idf</th>\n",
       "      <td>0.916291</td>\n",
       "      <td>0.916291</td>\n",
       "      <td>1.386294</td>\n",
       "      <td>1.386294</td>\n",
       "      <td>0.916291</td>\n",
       "      <td>0.916291</td>\n",
       "      <td>0.916291</td>\n",
       "      <td>1.386294</td>\n",
       "    </tr>\n",
       "  </tbody>\n",
       "</table>\n",
       "</div>"
      ],
      "text/plain": [
       "     university  Damascus  Software  engineering        at  retrieval  \\\n",
       "idf    0.916291  0.916291  1.386294     1.386294  0.916291   0.916291   \n",
       "\n",
       "     Information  Indexing  \n",
       "idf     0.916291  1.386294  "
      ]
     },
     "execution_count": 187,
     "metadata": {},
     "output_type": "execute_result"
    }
   ],
   "source": [
    "def calculate_idf():\n",
    "    idf = {}\n",
    "    \n",
    "    docs_count = len(corpus)\n",
    "\n",
    "    for term, doc_ids in inverted_index.items():\n",
    "        idf[term] = math.log((docs_count / len(doc_ids)) + 1)\n",
    "    \n",
    "    return idf\n",
    "        \n",
    "                 \n",
    "idf_df = pd.DataFrame(calculate_idf(), index=[\"idf\"])\n",
    "idf_df"
   ]
  },
  {
   "cell_type": "markdown",
   "id": "527909a7",
   "metadata": {},
   "source": [
    "## Calculating tf-idf for the document"
   ]
  },
  {
   "cell_type": "code",
   "execution_count": 188,
   "id": "fc6f7705",
   "metadata": {},
   "outputs": [
    {
     "data": {
      "text/html": [
       "<div>\n",
       "<style scoped>\n",
       "    .dataframe tbody tr th:only-of-type {\n",
       "        vertical-align: middle;\n",
       "    }\n",
       "\n",
       "    .dataframe tbody tr th {\n",
       "        vertical-align: top;\n",
       "    }\n",
       "\n",
       "    .dataframe thead th {\n",
       "        text-align: right;\n",
       "    }\n",
       "</style>\n",
       "<table border=\"1\" class=\"dataframe\">\n",
       "  <thead>\n",
       "    <tr style=\"text-align: right;\">\n",
       "      <th></th>\n",
       "      <th>Software</th>\n",
       "      <th>engineering</th>\n",
       "      <th>at</th>\n",
       "      <th>Damascus</th>\n",
       "      <th>university</th>\n",
       "    </tr>\n",
       "  </thead>\n",
       "  <tbody>\n",
       "    <tr>\n",
       "      <th>tf_idf</th>\n",
       "      <td>0.398812</td>\n",
       "      <td>0.213698</td>\n",
       "      <td>0.141247</td>\n",
       "      <td>0.141247</td>\n",
       "      <td>0.141247</td>\n",
       "    </tr>\n",
       "  </tbody>\n",
       "</table>\n",
       "</div>"
      ],
      "text/plain": [
       "        Software  engineering        at  Damascus  university\n",
       "tf_idf  0.398812     0.213698  0.141247  0.141247    0.141247"
      ]
     },
     "execution_count": 188,
     "metadata": {},
     "output_type": "execute_result"
    }
   ],
   "source": [
    "tf_idf = {}\n",
    "\n",
    "doc_terms = word_tokenize(corpus['doc_1'])\n",
    "\n",
    "doc_tf = calculate_tf(corpus['doc_1'])\n",
    "\n",
    "idf = calculate_idf()\n",
    "\n",
    "for term in doc_terms:\n",
    "    tf_idf[term] = doc_tf[term] * idf[term]\n",
    "\n",
    "tf_idf_df = pd.DataFrame(tf_idf, index=[\"tf_idf\"])\n",
    "tf_idf_df"
   ]
  },
  {
   "cell_type": "markdown",
   "id": "91a0fa6e",
   "metadata": {},
   "source": [
    "## Calculate tf-idf using Scikit Learn TfidfVectorizer"
   ]
  },
  {
   "cell_type": "code",
   "execution_count": 189,
   "id": "3c3e2e8b",
   "metadata": {},
   "outputs": [
    {
     "data": {
      "text/html": [
       "<div>\n",
       "<style scoped>\n",
       "    .dataframe tbody tr th:only-of-type {\n",
       "        vertical-align: middle;\n",
       "    }\n",
       "\n",
       "    .dataframe tbody tr th {\n",
       "        vertical-align: top;\n",
       "    }\n",
       "\n",
       "    .dataframe thead th {\n",
       "        text-align: right;\n",
       "    }\n",
       "</style>\n",
       "<table border=\"1\" class=\"dataframe\">\n",
       "  <thead>\n",
       "    <tr style=\"text-align: right;\">\n",
       "      <th></th>\n",
       "      <th>at</th>\n",
       "      <th>damascus</th>\n",
       "      <th>engineering</th>\n",
       "      <th>indexing</th>\n",
       "      <th>information</th>\n",
       "      <th>retrieval</th>\n",
       "      <th>software</th>\n",
       "      <th>university</th>\n",
       "    </tr>\n",
       "  </thead>\n",
       "  <tbody>\n",
       "    <tr>\n",
       "      <th>doc_1</th>\n",
       "      <td>0.293048</td>\n",
       "      <td>0.293048</td>\n",
       "      <td>0.385323</td>\n",
       "      <td>0.000000</td>\n",
       "      <td>0.000000</td>\n",
       "      <td>0.000000</td>\n",
       "      <td>0.770646</td>\n",
       "      <td>0.293048</td>\n",
       "    </tr>\n",
       "    <tr>\n",
       "      <th>doc_2</th>\n",
       "      <td>0.447214</td>\n",
       "      <td>0.447214</td>\n",
       "      <td>0.000000</td>\n",
       "      <td>0.000000</td>\n",
       "      <td>0.447214</td>\n",
       "      <td>0.447214</td>\n",
       "      <td>0.000000</td>\n",
       "      <td>0.447214</td>\n",
       "    </tr>\n",
       "    <tr>\n",
       "      <th>doc_3</th>\n",
       "      <td>0.000000</td>\n",
       "      <td>0.000000</td>\n",
       "      <td>0.000000</td>\n",
       "      <td>0.680919</td>\n",
       "      <td>0.517856</td>\n",
       "      <td>0.517856</td>\n",
       "      <td>0.000000</td>\n",
       "      <td>0.000000</td>\n",
       "    </tr>\n",
       "  </tbody>\n",
       "</table>\n",
       "</div>"
      ],
      "text/plain": [
       "             at  damascus  engineering  indexing  information  retrieval  \\\n",
       "doc_1  0.293048  0.293048     0.385323  0.000000     0.000000   0.000000   \n",
       "doc_2  0.447214  0.447214     0.000000  0.000000     0.447214   0.447214   \n",
       "doc_3  0.000000  0.000000     0.000000  0.680919     0.517856   0.517856   \n",
       "\n",
       "       software  university  \n",
       "doc_1  0.770646    0.293048  \n",
       "doc_2  0.000000    0.447214  \n",
       "doc_3  0.000000    0.000000  "
      ]
     },
     "execution_count": 189,
     "metadata": {},
     "output_type": "execute_result"
    }
   ],
   "source": [
    "documents = list(corpus.values())\n",
    "\n",
    "# TODO : ADD YOUR OWN TOKENIZER & PREPROCESSOR !\n",
    "vectorizer = TfidfVectorizer()\n",
    "\n",
    "# Fit the vectorizer to the documents\n",
    "tfidf_matrix = vectorizer.fit_transform(documents)\n",
    "\n",
    "df = pd.DataFrame(tfidf_matrix.toarray(), columns=vectorizer.get_feature_names_out(), index=corpus.keys())\n",
    "\n",
    "df"
   ]
  }
 ],
 "metadata": {
  "kernelspec": {
   "display_name": "Python 3 (ipykernel)",
   "language": "python",
   "name": "python3"
  },
  "language_info": {
   "codemirror_mode": {
    "name": "ipython",
    "version": 3
   },
   "file_extension": ".py",
   "mimetype": "text/x-python",
   "name": "python",
   "nbconvert_exporter": "python",
   "pygments_lexer": "ipython3",
   "version": "3.10.9"
  }
 },
 "nbformat": 4,
 "nbformat_minor": 5
}
