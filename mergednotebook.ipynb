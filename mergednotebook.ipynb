{
 "cells": [
  {
   "cell_type": "markdown",
   "id": "07ab75af",
   "metadata": {},
   "source": [
    "# Import Libraries"
   ]
  },
  {
   "cell_type": "code",
   "execution_count": null,
   "id": "fc4c3dfb",
   "metadata": {},
   "outputs": [],
   "source": [
    "import FileManager\n",
    "import WordCleaner\n",
    "import Indexer\n",
    "import Matcher\n",
    "import Evaluater\n",
    "from sklearn.feature_extraction.text import TfidfVectorizer\n",
    "from nltk.tokenize import word_tokenize\n",
    "%load_ext autoreload\n",
    "%autoreload 2"
   ]
  },
  {
   "cell_type": "markdown",
   "id": "f86b2947",
   "metadata": {},
   "source": [
    "# Dataset Manipulation "
   ]
  },
  {
   "cell_type": "markdown",
   "id": "069c2740",
   "metadata": {},
   "source": [
    "## Load Files"
   ]
  },
  {
   "cell_type": "code",
   "execution_count": null,
   "id": "91d69ec5",
   "metadata": {},
   "outputs": [],
   "source": [
    "vectorizer = TfidfVectorizer()\n",
    "dataset = FileManager.csv_to_dict(\"wikir/stemmed4.csv\")\n",
    "datasets = [dataset]"
   ]
  },
  {
   "cell_type": "markdown",
   "id": "15979398",
   "metadata": {},
   "source": [
    "### The Ultimate Loader"
   ]
  },
  {
   "cell_type": "code",
   "execution_count": null,
   "id": "b3281041",
   "metadata": {},
   "outputs": [],
   "source": [
    "vectorizer = TfidfVectorizer()\n",
    "\n",
    "dataset = {}\n",
    "for i in range(0,4):\n",
    "    dataset = dataset | FileManager.csv_to_dict(f\"wikir/stemmed{i}.csv\")\n",
    "datasets = [dataset]"
   ]
  },
  {
   "cell_type": "markdown",
   "id": "ae375500",
   "metadata": {},
   "source": [
    "## Remove stop words"
   ]
  },
  {
   "cell_type": "code",
   "execution_count": null,
   "id": "65723f2b",
   "metadata": {},
   "outputs": [],
   "source": [
    "dataset = datasets[-1]\n",
    "filtered_dataset = {}\n",
    "for key in dataset:\n",
    "    filtered_dataset[key] = WordCleaner.remove_stop_words(dataset[key])\n",
    "datasets.append(filtered_dataset)"
   ]
  },
  {
   "cell_type": "markdown",
   "id": "6621f9e3",
   "metadata": {},
   "source": [
    "## Stem"
   ]
  },
  {
   "cell_type": "code",
   "execution_count": null,
   "id": "4377f840",
   "metadata": {},
   "outputs": [],
   "source": [
    "dataset = datasets[-1]\n",
    "stemmed_dataset = {}\n",
    "for row in dataset:\n",
    "    stemmed_dataset[row] = WordCleaner.stem(dataset[row], \"Snowball\")\n",
    "datasets.append(stemmed_dataset)"
   ]
  },
  {
   "cell_type": "markdown",
   "id": "8bd7a58d",
   "metadata": {},
   "source": [
    "## Lemmatize"
   ]
  },
  {
   "cell_type": "code",
   "execution_count": null,
   "id": "43fe0f11",
   "metadata": {},
   "outputs": [],
   "source": [
    "dataset = datasets[-1]\n",
    "lemmad_dataset = {}\n",
    "for row in dataset:\n",
    "    lemmad_dataset[row] = WordCleaner.lemmatize(dataset[row])\n",
    "datasets.append(lemmad_dataset)"
   ]
  },
  {
   "cell_type": "markdown",
   "id": "c9c0bcf1",
   "metadata": {},
   "source": [
    "## Synonym Map"
   ]
  },
  {
   "cell_type": "code",
   "execution_count": null,
   "id": "7af5cf99",
   "metadata": {},
   "outputs": [],
   "source": [
    "dataset = datasets[-1]\n",
    "mapped_dataset = WordCleaner.synonym_map_corpus(dataset)\n",
    "datasets.append(mapped_dataset)\n",
    "mapped_dataset"
   ]
  },
  {
   "cell_type": "markdown",
   "id": "75f368df",
   "metadata": {},
   "source": [
    "## Calculating tf-idf for the document"
   ]
  },
  {
   "cell_type": "markdown",
   "id": "48b60ed8",
   "metadata": {},
   "source": [
    "### using Scikit Learn"
   ]
  },
  {
   "cell_type": "code",
   "execution_count": null,
   "id": "98eff815",
   "metadata": {},
   "outputs": [],
   "source": [
    "tfidf_matrix = Indexer.calculate_tf_idf(datasets[-1], vectorizer)\n",
    "dataset_key = list(datasets[-1].keys())"
   ]
  },
  {
   "cell_type": "markdown",
   "id": "f9cdd8aa",
   "metadata": {},
   "source": [
    "# Query Manipulation "
   ]
  },
  {
   "cell_type": "markdown",
   "id": "cb756f25",
   "metadata": {},
   "source": [
    "## Manual Query"
   ]
  },
  {
   "cell_type": "code",
   "execution_count": null,
   "id": "94fad178",
   "metadata": {},
   "outputs": [],
   "source": [
    "query = \"hello sister where is your hijab\"\n",
    "query = word_tokenize(query)\n",
    "query = WordCleaner.remove_stop_words(query)\n",
    "query = WordCleaner.stem(query, 'Snowball')\n",
    "# query = WordCleaner.lemmatize(query)\n",
    "query = [WordCleaner.get_unified_synonym(word) for word in query]\n",
    "print(query)"
   ]
  },
  {
   "cell_type": "markdown",
   "id": "7079d6ac",
   "metadata": {},
   "source": [
    "### Calculate TF-IDF"
   ]
  },
  {
   "cell_type": "code",
   "execution_count": null,
   "id": "859dc7da",
   "metadata": {},
   "outputs": [],
   "source": [
    "matrix = Indexer.calculate_doc_tf_idf([\" \".join(query)],vectorizer)"
   ]
  },
  {
   "cell_type": "markdown",
   "id": "1d08b71d",
   "metadata": {},
   "source": [
    "### Calculate Cosine Similarity"
   ]
  },
  {
   "cell_type": "code",
   "execution_count": null,
   "id": "fd8427af",
   "metadata": {},
   "outputs": [],
   "source": [
    "similar_rows = Matcher.get_query_answers(tfidf_matrix,matrix,dataset_key,0.25)\n",
    "\n",
    "for row in similar_rows.items():\n",
    "    print(row)"
   ]
  },
  {
   "cell_type": "markdown",
   "id": "17659ba6",
   "metadata": {},
   "source": [
    "## Evaluation Queries"
   ]
  },
  {
   "cell_type": "code",
   "execution_count": null,
   "id": "db528201",
   "metadata": {},
   "outputs": [],
   "source": [
    "queries = FileManager.csv_to_dict(\"wikir/queries.csv\")"
   ]
  },
  {
   "cell_type": "code",
   "execution_count": null,
   "id": "9dcc6d1d",
   "metadata": {},
   "outputs": [],
   "source": [
    "# TODO get unified synonym needs testing\n",
    "# for key, words in queries.keys():\n",
    "#     queries[key] = [synonym_dict[word] for word in words]\n",
    "for key in queries.keys():\n",
    "    queries[key] = WordCleaner.stem(queries[key], \"Snowball\")\n",
    "# for key in queries.keys():\n",
    "#     queries[key] = WordCleaner.lemmatize(queries[key])"
   ]
  },
  {
   "cell_type": "markdown",
   "id": "0320dc0f",
   "metadata": {},
   "source": [
    "### Calculate TF-IDF"
   ]
  },
  {
   "cell_type": "code",
   "execution_count": null,
   "id": "fd3903f0",
   "metadata": {},
   "outputs": [],
   "source": [
    "queries_matrices = {}\n",
    "for key in queries.keys():\n",
    "    queries_matrices[key] = Indexer.calculate_doc_tf_idf([\" \".join(queries[key])],vectorizer)"
   ]
  },
  {
   "cell_type": "markdown",
   "id": "f7d46388",
   "metadata": {},
   "source": [
    "### Calculate Cosine Similarity"
   ]
  },
  {
   "cell_type": "code",
   "execution_count": null,
   "id": "562157b2",
   "metadata": {},
   "outputs": [],
   "source": [
    "queriesAnswers = {}\n",
    "for key in queries.keys():\n",
    "    queriesAnswers[key] = Matcher.get_query_answers(tfidf_matrix,queries_matrices[key],dataset_key,0.25)"
   ]
  },
  {
   "cell_type": "markdown",
   "id": "1edcaba6",
   "metadata": {},
   "source": [
    "# Evaluation"
   ]
  },
  {
   "cell_type": "code",
   "execution_count": null,
   "id": "a6412b55",
   "metadata": {},
   "outputs": [],
   "source": [
    "Evaluater.evaluate(\"wikir/qrels\",\"testrun\",\"[nDCG @ 10, P @ 5, P(rel=2) @ 5, Judged @ 10]\")"
   ]
  },
  {
   "cell_type": "markdown",
   "id": "e3311fe2",
   "metadata": {},
   "source": [
    "# Write To Files"
   ]
  },
  {
   "cell_type": "markdown",
   "id": "731ad4ac",
   "metadata": {},
   "source": [
    "## Dataset"
   ]
  },
  {
   "cell_type": "code",
   "execution_count": null,
   "id": "13c2eea2",
   "metadata": {},
   "outputs": [],
   "source": [
    "FileManager.write_dataset_to_file(\"stemmed255.csv\",datasets[-1])"
   ]
  },
  {
   "cell_type": "markdown",
   "id": "d8a34c7e",
   "metadata": {},
   "source": [
    "## Run File"
   ]
  },
  {
   "cell_type": "code",
   "execution_count": null,
   "id": "d525af42",
   "metadata": {},
   "outputs": [],
   "source": [
    "FileManager.write_runfile_to_file(\"testrun\",queries,queriesAnswers)"
   ]
  },
  {
   "cell_type": "markdown",
   "id": "7bdbe7ab",
   "metadata": {},
   "source": [
    "## Model"
   ]
  },
  {
   "cell_type": "markdown",
   "id": "3094d4e4",
   "metadata": {},
   "source": [
    "### Write"
   ]
  },
  {
   "cell_type": "code",
   "execution_count": null,
   "id": "379b09d8",
   "metadata": {},
   "outputs": [],
   "source": [
    "FileManager.write_model_to_file(\"model.npz\",tfidf_matrix)"
   ]
  },
  {
   "cell_type": "markdown",
   "id": "34d03817",
   "metadata": {},
   "source": [
    "### Read"
   ]
  },
  {
   "cell_type": "code",
   "execution_count": null,
   "id": "b8da4498",
   "metadata": {},
   "outputs": [],
   "source": [
    "ddf = FileManager.load_model_from_file(\"model.npz\")\n",
    "ddf"
   ]
  },
  {
   "cell_type": "markdown",
   "id": "efd9632c",
   "metadata": {},
   "source": [
    "# Word Embedding"
   ]
  },
  {
   "cell_type": "code",
   "execution_count": null,
   "id": "4ecd2355",
   "metadata": {},
   "outputs": [],
   "source": [
    "# %pip install gensim"
   ]
  },
  {
   "cell_type": "code",
   "execution_count": null,
   "id": "0f9e13d3",
   "metadata": {},
   "outputs": [],
   "source": [
    "from gensim.models import Word2Vec\n",
    "\n",
    "dataset = datasets[-1]\n",
    "# Convert to a list of tokenized documents\n",
    "tokenized_documents = list(dataset.values())\n",
    "\n",
    "model = Word2Vec(sentences=tokenized_documents,\n",
    "                          vector_size=100,  # Dimensionality of the word vectors\n",
    "                          window=5,         # Maximum distance between the current and predicted word within a sentence\n",
    "                          sg=1,             # Skip-Gram model (1 for Skip-Gram, 0 for CBOW)\n",
    "                          min_count=1,      # Ignores all words with a total frequency lower than this\n",
    "                          workers=4         # Number of CPUS to use\n",
    "                          )       \n",
    "\n",
    "# print(tokenized_documents[5:10])\n",
    "\n",
    "\n",
    "# Train the model\n",
    "model.train(tokenized_documents, total_examples=len(tokenized_documents), epochs=30)\n",
    "\n",
    "model.save(\"embedding.model\")\n",
    "loaded_model = Word2Vec.load(\"embedding.model\")"
   ]
  },
  {
   "cell_type": "code",
   "execution_count": null,
   "id": "be36ca40",
   "metadata": {},
   "outputs": [],
   "source": [
    "# Get the list of words (vocabulary) from the Word2Vec model\n",
    "words = model.wv.index_to_key\n",
    "print(len(words))\n",
    "print(words)\n",
    "\n",
    "\n",
    "# print(model.wv['malaysia'])\n",
    "# print(model.wv.similarity('1st', 'First'))\n",
    "\n",
    "print(model.wv.similarity('good', 'best'))\n",
    "print(model.wv.similarity('good', 'malaysia'))\n",
    "print(model.wv.most_similar('war'))"
   ]
  },
  {
   "cell_type": "code",
   "execution_count": null,
   "id": "6a2bf9a9",
   "metadata": {},
   "outputs": [],
   "source": [
    "document_vectors = []\n",
    "for doc in tokenized_documents:\n",
    "    # Calculate the average vector for each document\n",
    "    doc_vector = np.mean([model.wv[word] for word in doc if word in model.wv], axis=0)\n",
    "    document_vectors.append(doc_vector)\n",
    "# print(doc_vector)"
   ]
  },
  {
   "cell_type": "code",
   "execution_count": null,
   "id": "9e317fcd",
   "metadata": {},
   "outputs": [],
   "source": [
    "import numpy as np\n",
    "from sklearn.metrics.pairwise import cosine_similarity\n",
    "\n",
    "# Create a query vector for \"the united states\"\n",
    "# You can calculate the average vector for the words in your query\n",
    "query_words = [\"machine\"]\n",
    "query_vector = np.mean([model.wv[word] for word in query_words if word in model.wv], axis=0)\n",
    "\n",
    "# Compute cosine similarity between query and document vectors\n",
    "similarity_scores = cosine_similarity([query_vector], document_vectors)\n",
    "\n",
    "# Rank documents based on similarity scores\n",
    "sorted_docs = sorted(enumerate(similarity_scores[0]), key=lambda x: x[1], reverse=True)\n",
    "\n",
    "# Print the ranked documents\n",
    "for rank, (doc_id, score) in enumerate(sorted_docs, start=1):\n",
    "    print(f\"Rank {rank}: Document {doc_id + 2} (Similarity Score = {score:.4f})\")\n"
   ]
  },
  {
   "cell_type": "code",
   "execution_count": null,
   "id": "e97e6c9f",
   "metadata": {},
   "outputs": [],
   "source": [
    "import numpy as np\n",
    "from sklearn.decomposition import PCA\n",
    "import matplotlib.pyplot as plt\n",
    "\n",
    "def display_pca_scatterplot(model, words=None, sample=0):\n",
    "    if words is None:\n",
    "        if sample > 0:\n",
    "            words = np.random.choice(list(model.wv.index_to_key), sample)\n",
    "        else:\n",
    "            words = list(model.wv.index_to_key)\n",
    "        \n",
    "    word_vectors = np.array([model.wv[word] for word in words])\n",
    "\n",
    "    # Determine the appropriate number of components (up to min(n_samples, n_features))\n",
    "    n_components = min(word_vectors.shape[0], word_vectors.shape[1])\n",
    "\n",
    "    if n_components > 1:\n",
    "        twodim = PCA(n_components=n_components).fit_transform(word_vectors)[:, :2]\n",
    "        plt.figure(figsize=(6, 6))\n",
    "        plt.scatter(twodim[:, 0], twodim[:, 1], edgecolors='k', c='r')\n",
    "        for word, (x, y) in zip(words, twodim):\n",
    "            plt.text(x + 0.05, y + 0.05, word)\n",
    "        plt.show()\n",
    "    else:\n",
    "        print(\"Insufficient data for PCA visualization.\")\n",
    "\n",
    "# Example usage:\n",
    "display_pca_scatterplot(model, ['machine','yoga', 'war', 'good'])\n"
   ]
  },
  {
   "cell_type": "markdown",
   "id": "0a12c5d7",
   "metadata": {},
   "source": [
    "## Tests"
   ]
  }
 ],
 "metadata": {
  "kernelspec": {
   "display_name": "Python 3 (ipykernel)",
   "language": "python",
   "name": "python3"
  },
  "language_info": {
   "codemirror_mode": {
    "name": "ipython",
    "version": 3
   },
   "file_extension": ".py",
   "mimetype": "text/x-python",
   "name": "python",
   "nbconvert_exporter": "python",
   "pygments_lexer": "ipython3",
   "version": "3.11.7"
  }
 },
 "nbformat": 4,
 "nbformat_minor": 5
}
