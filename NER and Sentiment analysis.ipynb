{
 "cells": [
  {
   "cell_type": "code",
   "execution_count": 2,
   "id": "31157b65",
   "metadata": {},
   "outputs": [],
   "source": [
    "import nltk\n",
    "from nltk.tokenize import word_tokenize , sent_tokenize"
   ]
  },
  {
   "cell_type": "markdown",
   "id": "fa667d1e",
   "metadata": {},
   "source": [
    "## Named Entity Recognition"
   ]
  },
  {
   "cell_type": "markdown",
   "id": "9fe84a03",
   "metadata": {},
   "source": [
    "NER is the process of identifying and classifying named entities in a piece of text, such as people, organizations, and locations"
   ]
  },
  {
   "cell_type": "code",
   "execution_count": 3,
   "id": "518df2f2",
   "metadata": {},
   "outputs": [
    {
     "name": "stdout",
     "output_type": "stream",
     "text": [
      "(S\n",
      "  (PERSON Barack/NNP)\n",
      "  (PERSON Obama/NNP)\n",
      "  was/VBD\n",
      "  born/VBN\n",
      "  in/IN\n",
      "  (GPE Hawaii/NNP)\n",
      "  ,/,\n",
      "  and/CC\n",
      "  he/PRP\n",
      "  was/VBD\n",
      "  the/DT\n",
      "  President/NNP\n",
      "  of/IN\n",
      "  the/DT\n",
      "  (GPE United/NNP States/NNPS)\n",
      "  ./.)\n"
     ]
    }
   ],
   "source": [
    "from nltk import pos_tag, ne_chunk\n",
    "\n",
    "text = \"Barack Obama was born in Hawaii, and he was the President of the United States.\"\n",
    "\n",
    "tokens = word_tokenize(text)\n",
    "#tokens = sent_tokenize(text)\n",
    "tagged_tokens = pos_tag(tokens)\n",
    "ne_chunked_tokens = ne_chunk(tagged_tokens)\n",
    "\n",
    "print(ne_chunked_tokens)"
   ]
  },
  {
   "cell_type": "markdown",
   "id": "e9122434",
   "metadata": {},
   "source": [
    "## Sentiment Analysis"
   ]
  },
  {
   "cell_type": "markdown",
   "id": "a4e9487a",
   "metadata": {},
   "source": [
    "Sentiment analysis is the process of determining the sentiment expressed in a piece of text, whether it is positive, negative, or neutral. \n",
    "\n",
    "Positive: Text that expresses favorable emotions, satisfaction, or approval.\n",
    "\n",
    "Negative: Text that conveys unfavorable emotions, dissatisfaction, or disapproval.\n",
    "\n",
    "Neutral: Text that remains impartial, factual, or lacks any strong emotional tone.\n",
    "\n",
    "Compound Score: The compound score combines all three sentiments (positive, negative, and neutral) into a single value. It ranges from -1 (most negative) to 1 (most positive)"
   ]
  },
  {
   "cell_type": "code",
   "execution_count": 4,
   "id": "3e5d3e99",
   "metadata": {},
   "outputs": [
    {
     "name": "stdout",
     "output_type": "stream",
     "text": [
      "{'neg': 0.0, 'neu': 0.354, 'pos': 0.646, 'compound': 0.807}\n"
     ]
    }
   ],
   "source": [
    "from nltk.sentiment import SentimentIntensityAnalyzer\n",
    "\n",
    "text = \"I love sunny days at the beach!\" \n",
    "#text =\"The service was terrible; I won’t be returning.\"\n",
    "#text = \"The conference starts at 9 AM.\"\n",
    "analyzer = SentimentIntensityAnalyzer()\n",
    "scores = analyzer.polarity_scores(text)\n",
    "\n",
    "print(scores)"
   ]
  },
  {
   "cell_type": "code",
   "execution_count": null,
   "id": "973bce9b",
   "metadata": {},
   "outputs": [],
   "source": []
  }
 ],
 "metadata": {
  "kernelspec": {
   "display_name": "Python 3 (ipykernel)",
   "language": "python",
   "name": "python3"
  },
  "language_info": {
   "codemirror_mode": {
    "name": "ipython",
    "version": 3
   },
   "file_extension": ".py",
   "mimetype": "text/x-python",
   "name": "python",
   "nbconvert_exporter": "python",
   "pygments_lexer": "ipython3",
   "version": "3.10.9"
  }
 },
 "nbformat": 4,
 "nbformat_minor": 5
}
